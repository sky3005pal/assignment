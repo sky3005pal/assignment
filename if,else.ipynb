{
 "cells": [
  {
   "cell_type": "code",
   "execution_count": 2,
   "id": "8ac03669-d598-4681-ad2d-180bcd7d243e",
   "metadata": {},
   "outputs": [
    {
     "name": "stdin",
     "output_type": "stream",
     "text": [
      "Enter your marks -09\n"
     ]
    },
    {
     "name": "stdout",
     "output_type": "stream",
     "text": [
      "you will be a part of A3 batch\n"
     ]
    }
   ],
   "source": [
    "marks =  int( input(\"Enter your marks\"))\n",
    "if marks >= 80 :\n",
    "    print(\"you willbe a part of A0 batch\")\n",
    "elif marks>=60 and marks <80:\n",
    "    print(\"you wll be a part of A1 batch\")\n",
    "elif marks >=40 and marks <60:\n",
    "    print(\"you will be a part of A2 batch\")\n",
    "else:\n",
    "    print(\"you will be a part of A3 batch\")"
   ]
  },
  {
   "cell_type": "code",
   "execution_count": 3,
   "id": "c603ea08-bd03-430a-ac74-8feba0d94c61",
   "metadata": {},
   "outputs": [
    {
     "name": "stdin",
     "output_type": "stream",
     "text": [
      "Enter price 6000\n"
     ]
    },
    {
     "name": "stdout",
     "output_type": "stream",
     "text": [
      "i Will not purchase\n"
     ]
    }
   ],
   "source": [
    "price = int(input(\"Enter price\"))\n",
    "if price > 1000:\n",
    "    print(\"i Will not purchase\")\n",
    "else:\n",
    "    print(\"i will purchase\")"
   ]
  },
  {
   "cell_type": "code",
   "execution_count": 4,
   "id": "600e9b95-3540-463c-8e48-004b1f6fc86b",
   "metadata": {},
   "outputs": [],
   "source": [
    "l=[1,2,3,4,5,6,7,8,9,10]"
   ]
  },
  {
   "cell_type": "code",
   "execution_count": 5,
   "id": "1151aa66-2b10-4f75-a92e-e8033ba7072b",
   "metadata": {},
   "outputs": [
    {
     "data": {
      "text/plain": [
       "[1, 2, 3, 4, 5, 6, 7, 8, 9, 10]"
      ]
     },
     "execution_count": 5,
     "metadata": {},
     "output_type": "execute_result"
    }
   ],
   "source": [
    "l"
   ]
  },
  {
   "cell_type": "code",
   "execution_count": 9,
   "id": "d2dd9a16-1f61-4b86-bf4c-e5bb18c4ffd3",
   "metadata": {},
   "outputs": [
    {
     "data": {
      "text/plain": [
       "[2, 3, 4, 5, 6, 7, 8, 9, 10, 11]"
      ]
     },
     "execution_count": 9,
     "metadata": {},
     "output_type": "execute_result"
    }
   ],
   "source": [
    "l1=[]\n",
    "for i in l:\n",
    "    ##print(i+1)\n",
    "    l1.append(i+1)\n",
    "l1"
   ]
  },
  {
   "cell_type": "code",
   "execution_count": 11,
   "id": "305232a5-c264-41a8-b7f7-73aec98ecc28",
   "metadata": {},
   "outputs": [],
   "source": [
    "l=[\"aaa\",\"sss\",\"ee\",\"ddd\",\"pp\"]"
   ]
  },
  {
   "cell_type": "code",
   "execution_count": 15,
   "id": "d0ae747f-a178-4fe3-a8d9-e6d4114c8eb9",
   "metadata": {},
   "outputs": [
    {
     "name": "stdout",
     "output_type": "stream",
     "text": [
      "aaa\n",
      "sss\n",
      "ee\n",
      "ddd\n",
      "pp\n"
     ]
    },
    {
     "data": {
      "text/plain": [
       "['AAA', 'SSS', 'EE', 'DDD', 'PP']"
      ]
     },
     "execution_count": 15,
     "metadata": {},
     "output_type": "execute_result"
    }
   ],
   "source": [
    "l1=[]\n",
    "for i  in l:\n",
    "    print(i)\n",
    "    l1.append(i.upper())\n",
    "l1"
   ]
  },
  {
   "cell_type": "code",
   "execution_count": 14,
   "id": "a7c119bd-66a6-44e4-b70f-b0a6b706649f",
   "metadata": {},
   "outputs": [
    {
     "data": {
      "text/plain": [
       "['AAA', 'SSS', 'EE', 'DDD', 'PP']"
      ]
     },
     "execution_count": 14,
     "metadata": {},
     "output_type": "execute_result"
    }
   ],
   "source": [
    "l1"
   ]
  },
  {
   "cell_type": "code",
   "execution_count": 21,
   "id": "869359bc-f161-4dc6-a4d0-74f03c3324e0",
   "metadata": {},
   "outputs": [],
   "source": [
    "l=[11,2,4,3,67,\"ss\",\"rte\",4.5]"
   ]
  },
  {
   "cell_type": "code",
   "execution_count": 27,
   "id": "edeb9bdb-a0a1-470a-ae74-b839fad653ab",
   "metadata": {},
   "outputs": [],
   "source": [
    "l1_num=[]\n",
    "l2_str=[]\n",
    "for i in l:\n",
    "    if type(i) == int or type(i)==float:\n",
    "        l1_num.append(i)\n",
    "    else : \n",
    "        l2_str.append(i)"
   ]
  },
  {
   "cell_type": "code",
   "execution_count": 29,
   "id": "cbfacf95-c2d2-4d59-8111-4998122b5f9d",
   "metadata": {},
   "outputs": [
    {
     "data": {
      "text/plain": [
       "['ss', 'rte']"
      ]
     },
     "execution_count": 29,
     "metadata": {},
     "output_type": "execute_result"
    }
   ],
   "source": [
    "l2_str"
   ]
  },
  {
   "cell_type": "code",
   "execution_count": 28,
   "id": "10905db4-c96b-46f9-a866-a7209f2e72ae",
   "metadata": {},
   "outputs": [
    {
     "data": {
      "text/plain": [
       "[11, 2, 4, 3, 67, 4.5]"
      ]
     },
     "execution_count": 28,
     "metadata": {},
     "output_type": "execute_result"
    }
   ],
   "source": [
    "l1_num"
   ]
  },
  {
   "cell_type": "code",
   "execution_count": null,
   "id": "5e793510-0b19-4fd2-9f1c-790e834aa34a",
   "metadata": {},
   "outputs": [],
   "source": []
  }
 ],
 "metadata": {
  "kernelspec": {
   "display_name": "Python 3 (ipykernel)",
   "language": "python",
   "name": "python3"
  },
  "language_info": {
   "codemirror_mode": {
    "name": "ipython",
    "version": 3
   },
   "file_extension": ".py",
   "mimetype": "text/x-python",
   "name": "python",
   "nbconvert_exporter": "python",
   "pygments_lexer": "ipython3",
   "version": "3.10.8"
  }
 },
 "nbformat": 4,
 "nbformat_minor": 5
}
